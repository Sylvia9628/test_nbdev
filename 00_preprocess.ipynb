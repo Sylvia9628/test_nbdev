{
 "cells": [
  {
   "cell_type": "code",
   "execution_count": null,
   "metadata": {},
   "outputs": [],
   "source": [
    "#default_exp preprocess"
   ]
  },
  {
   "cell_type": "markdown",
   "metadata": {},
   "source": [
    "# Test nbdev\n",
    "\n",
    "> This is a project to test out nbdev with some simple examples"
   ]
  },
  {
   "cell_type": "code",
   "execution_count": null,
   "metadata": {},
   "outputs": [],
   "source": [
    "#hide\n",
    "from nbdev.showdoc import *"
   ]
  },
  {
   "cell_type": "code",
   "execution_count": null,
   "metadata": {},
   "outputs": [],
   "source": [
    "#export\n",
    "import spacy\n",
    "import nltk\n",
    "import re\n",
    "from fastcore.test import test_eq\n",
    "from nltk.corpus import stopwords\n",
    "from nbdev.showdoc import *"
   ]
  },
  {
   "cell_type": "code",
   "execution_count": null,
   "metadata": {},
   "outputs": [
    {
     "data": {
      "text/markdown": [
       "<h4 id=\"Preprocess.lemmatize\" class=\"doc_header\"><code>Preprocess.lemmatize</code><a href=\"__main__.py#L6\" class=\"source_link\" style=\"float:right\">[source]</a></h4>\n",
       "\n",
       "> <code>Preprocess.lemmatize</code>()\n",
       "\n",
       "`Returns lemmatized documents with punctuation and stopwords removed`"
      ],
      "text/plain": [
       "<IPython.core.display.Markdown object>"
      ]
     },
     "metadata": {},
     "output_type": "display_data"
    },
    {
     "data": {
      "text/markdown": [
       "<h4 id=\"Preprocess.stemming\" class=\"doc_header\"><code>Preprocess.stemming</code><a href=\"__main__.py#L25\" class=\"source_link\" style=\"float:right\">[source]</a></h4>\n",
       "\n",
       "> <code>Preprocess.stemming</code>()\n",
       "\n",
       "`Returns stemmed documents with punctuation and stopwords removed`"
      ],
      "text/plain": [
       "<IPython.core.display.Markdown object>"
      ]
     },
     "metadata": {},
     "output_type": "display_data"
    }
   ],
   "source": [
    "#export\n",
    "class Preprocess:\n",
    "    \n",
    "    def __init__(self, documents): self.documents = documents\n",
    "    \n",
    "    def lemmatize(self):\n",
    "        \n",
    "        \"`Returns lemmatized documents with punctuation and stopwords removed`\"\n",
    "    \n",
    "        preprocessed_documents = []    \n",
    "        nlp = spacy.load('en_core_web_sm')\n",
    "        \n",
    "        for document in self.documents:\n",
    "            preprocessed_text = []\n",
    "            document = re.sub(r'[^\\w\\d\\s\\']+', '', document)\n",
    "            doc = nlp(document)\n",
    "\n",
    "            for token in doc:\n",
    "                if token.text not in stopwords.words('english'):\n",
    "                    preprocessed_text.append(token.lemma_)\n",
    "            preprocessed_documents.append(preprocessed_text)\n",
    "\n",
    "        return preprocessed_documents\n",
    "    \n",
    "    def stemming(self):\n",
    "        \n",
    "        \"`Returns stemmed documents with punctuation and stopwords removed`\"\n",
    "        \n",
    "        preprocessed_documents = []    \n",
    "        stemmer = nltk.stem.SnowballStemmer(\"english\")\n",
    "        nlp = spacy.load('en_core_web_sm')\n",
    "            \n",
    "        for document in self.documents:\n",
    "            \n",
    "            preprocessed_text = []\n",
    "            document = re.sub(r'[^\\w\\d\\s\\']+', '', document)\n",
    "            doc = nlp(document)\n",
    "            \n",
    "            for token in doc:\n",
    "                if token.text not in stopwords.words(\"english\"):\n",
    "                    preprocessed_text.append(stemmer.stem(token.text))\n",
    "    \n",
    "            preprocessed_documents.append(preprocessed_text)\n",
    "\n",
    "        return preprocessed_documents\n",
    "\n",
    "show_doc(Preprocess.lemmatize)\n",
    "show_doc(Preprocess.stemming)"
   ]
  },
  {
   "cell_type": "code",
   "execution_count": null,
   "metadata": {},
   "outputs": [],
   "source": [
    "text = Preprocess([\"Anne lives in Spain!\"])\n",
    "test_eq(text.lemmatize(),[[\"Anne\", \"live\",\"Spain\"]])"
   ]
  },
  {
   "cell_type": "code",
   "execution_count": null,
   "metadata": {},
   "outputs": [],
   "source": [
    "text = Preprocess([\"Anne lives in Spain!\"])\n",
    "test_eq(text.stemming(),[[\"ann\", \"live\",\"spain\"]])"
   ]
  },
  {
   "cell_type": "code",
   "execution_count": null,
   "metadata": {},
   "outputs": [
    {
     "name": "stdout",
     "output_type": "stream",
     "text": [
      "Converted 00_preprocess.ipynb.\n",
      "Converted index.ipynb.\n"
     ]
    }
   ],
   "source": [
    "#hide\n",
    "from nbdev.export import notebook2script; notebook2script()"
   ]
  }
 ],
 "metadata": {
  "kernelspec": {
   "display_name": "Python 3",
   "language": "python",
   "name": "python3"
  }
 },
 "nbformat": 4,
 "nbformat_minor": 2
}
